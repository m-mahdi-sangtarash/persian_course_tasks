{
 "cells": [
  {
   "cell_type": "markdown",
   "id": "633a053e",
   "metadata": {},
   "source": [
    "## task 1\n",
    "\n",
    "Write a code that displays the integers from the list below."
   ]
  },
  {
   "cell_type": "code",
   "execution_count": 1,
   "id": "3b5ad02e",
   "metadata": {},
   "outputs": [
    {
     "name": "stdout",
     "output_type": "stream",
     "text": [
      "11\n",
      "10\n"
     ]
    }
   ],
   "source": [
    "lst = ['11', 'pooya', '10', '10.5']\n",
    "num_lst = ['1', '2', '3', '4', '5', '6', '7', '8', '9', '0']\n",
    "int_num = ''\n",
    "\n",
    "for item in lst:\n",
    "    for item_check in item:\n",
    "        if item_check not in (num_lst):\n",
    "            int_num = ''\n",
    "            break\n",
    "\n",
    "        else:\n",
    "            \n",
    "            int_num += item_check #create int number\n",
    "    \n",
    "    if int_num != '': # show int number\n",
    "        \n",
    "        print(int_num)\n",
    "        int_num = '' #reset for check other numbers\n"
   ]
  },
  {
   "cell_type": "code",
   "execution_count": null,
   "id": "351ccc25",
   "metadata": {},
   "outputs": [],
   "source": []
  }
 ],
 "metadata": {
  "kernelspec": {
   "display_name": "Python 3 (ipykernel)",
   "language": "python",
   "name": "python3"
  },
  "language_info": {
   "codemirror_mode": {
    "name": "ipython",
    "version": 3
   },
   "file_extension": ".py",
   "mimetype": "text/x-python",
   "name": "python",
   "nbconvert_exporter": "python",
   "pygments_lexer": "ipython3",
   "version": "3.9.12"
  }
 },
 "nbformat": 4,
 "nbformat_minor": 5
}
